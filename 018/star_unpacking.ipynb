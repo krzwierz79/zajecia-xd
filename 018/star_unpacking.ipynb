{
 "cells": [
  {
   "cell_type": "code",
   "execution_count": null,
   "metadata": {},
   "outputs": [],
   "source": [
    "lista = [1,2,3,4]\n",
    "a,b,c,d = lista\n",
    "# a,b,c,d = *lista # nie działa by design?\n",
    "[x,*y,z] = lista\n",
    "print(f\"x: {x}, y: {y} z: {z}\")\n",
    "print(bool(c == lista[2]))\n",
    "print(bool([a,b,c,d] == lista))\n",
    "# print(bool([a,b,c,d] == *lista)) # nie działa by design?"
   ]
  },
  {
   "cell_type": "code",
   "execution_count": 2,
   "metadata": {},
   "outputs": [
    {
     "name": "stdout",
     "output_type": "stream",
     "text": [
      "['Sánchez', 'Villalobos']\n",
      "Sánchez Villalobos\n"
     ]
    }
   ],
   "source": [
    "first, *middle, last = ['Juan', 'Sánchez', 'Villalobos', 'Ramírez']\n",
    "print(middle)\n",
    "print(*middle)"
   ]
  }
 ],
 "metadata": {
  "interpreter": {
   "hash": "d4a44369807ff62c402b9a5fbd01b4b19072198ec27e2023b178f48ee27c33b2"
  },
  "kernelspec": {
   "display_name": "Python 3.10.1 64-bit",
   "language": "python",
   "name": "python3"
  },
  "language_info": {
   "codemirror_mode": {
    "name": "ipython",
    "version": 3
   },
   "file_extension": ".py",
   "mimetype": "text/x-python",
   "name": "python",
   "nbconvert_exporter": "python",
   "pygments_lexer": "ipython3",
   "version": "3.10.1"
  },
  "orig_nbformat": 4
 },
 "nbformat": 4,
 "nbformat_minor": 2
}
