{
 "cells": [
  {
   "cell_type": "code",
   "execution_count": 26,
   "metadata": {},
   "outputs": [
    {
     "name": "stdout",
     "output_type": "stream",
     "text": [
      "[['Superman', 'nieziemsko kosmiczny superbohater'], ['Aquaman', 'ma mokro'], ['Batman', 'nie zna się na żartach']]\n",
      "[['Batman', 'nie zna się na żartach'], ['Superman', 'nieziemsko kosmiczny superbohater'], ['Aquaman', 'ma mokro']]\n",
      "[['Batman', 'nie zna się na żartach'], ['Superman', 'nieziemsko kosmiczny superbohater'], ['Aquaman', 'ma mokro']] in new order - from previous line\n",
      "[['Batman', 'nie zna się na żartach', 5], ['Superman', 'nieziemsko kosmiczny superbohater', 3], ['Aquaman', 'ma mokro', 2]]\n",
      "[['Batman', 'nie zna się na żartach', 5], ['Superman', 'nieziemsko kosmiczny superbohater', 3], ['Aquaman', 'ma mokro', 2]] with numbers from previous\n",
      "[['Aquaman', 'ma mokro', 2], ['Superman', 'nieziemsko kosmiczny superbohater', 3], ['Batman', 'nie zna się na żartach', 5]] shortest first\n"
     ]
    }
   ],
   "source": [
    "dc_heroes = [\n",
    "  ['Superman','nieziemsko kosmiczny superbohater'],\n",
    "  ['Aquaman','ma mokro'],\n",
    "  ['Batman','nie zna się na żartach']\n",
    "  ]\n",
    "\n",
    "def sort_by_words(top_list):\n",
    "  top_list.sort(key = lambda nested_list: nested_list[1].count(' '), reverse = True)\n",
    "  return top_list\n",
    "\n",
    "# mutate list in place\n",
    "def add_word_count(top_list):\n",
    "  for nested_list in top_list:\n",
    "    word_count = len(nested_list[1].split())\n",
    "    nested_list.append(word_count)\n",
    "  return top_list\n",
    "\n",
    "def sort_by_word_count(top_list):\n",
    "  top_list.sort(key = lambda nested_list: nested_list[2], reverse = False)\n",
    "  return top_list\n",
    "\n",
    "# addword_count mutates dc Heroes! \n",
    "print(dc_heroes)\n",
    "print(sort_by_words(dc_heroes))\n",
    "print(f\"{dc_heroes} in new order - from previous line\")\n",
    "print(add_word_count(dc_heroes))\n",
    "print(f\"{sort_by_words(dc_heroes)} with numbers from previous\")\n",
    "print(f\"{sort_by_word_count(dc_heroes)} shortest first\")\n"
   ]
  },
  {
   "cell_type": "code",
   "execution_count": 28,
   "metadata": {},
   "outputs": [
    {
     "name": "stdout",
     "output_type": "stream",
     "text": [
      "[['Punisher', 'giń'], ['Spiderman', 'go Queens'], ['X-Men', 'Wolverine ma sztywne kości']]\n",
      "[['Punisher', 'giń', 1], ['Spiderman', 'go Queens', 2], ['X-Men', 'Wolverine ma sztywne kości', 4]]\n",
      "[['X-Men', 'Wolverine ma sztywne kości', 4], ['Spiderman', 'go Queens', 2], ['Punisher', 'giń', 1]]\n",
      "[['Punisher', 'giń'], ['Spiderman', 'go Queens'], ['X-Men', 'Wolverine ma sztywne kości']] still the same\n"
     ]
    }
   ],
   "source": [
    "marvel_heroes = [\n",
    "  ['Punisher','giń'],\n",
    "  ['Spiderman','go Queens'],\n",
    "  ['X-Men','Wolverine ma sztywne kości']\n",
    "  ]\n",
    "\n",
    "#create new list with added word count\n",
    "def add_word_count_to_new(top_list):\n",
    "  new_top_list = []\n",
    "  for nested_list in top_list:\n",
    "    word_count = len(nested_list[1].split())\n",
    "    new_nested_list = nested_list[:]\n",
    "    new_nested_list.append(word_count)\n",
    "    new_top_list.append(new_nested_list)\n",
    "  return new_top_list\n",
    "\n",
    "def sort_by_word_count(top_list):\n",
    "  top_list.sort(key = lambda nested_list: nested_list[2], reverse = True)\n",
    "  return top_list\n",
    "\n",
    "print(marvel_heroes) \n",
    "print(add_word_count_to_new(marvel_heroes))\n",
    "print(sort_by_word_count(add_word_count_to_new(marvel_heroes)))\n",
    "print(f\"{marvel_heroes} still the same\")"
   ]
  }
 ],
 "metadata": {
  "interpreter": {
   "hash": "d4a44369807ff62c402b9a5fbd01b4b19072198ec27e2023b178f48ee27c33b2"
  },
  "kernelspec": {
   "display_name": "Python 3.10.1 64-bit",
   "language": "python",
   "name": "python3"
  },
  "language_info": {
   "codemirror_mode": {
    "name": "ipython",
    "version": 3
   },
   "file_extension": ".py",
   "mimetype": "text/x-python",
   "name": "python",
   "nbconvert_exporter": "python",
   "pygments_lexer": "ipython3",
   "version": "3.10.1"
  },
  "orig_nbformat": 4
 },
 "nbformat": 4,
 "nbformat_minor": 2
}
