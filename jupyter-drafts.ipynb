{
 "cells": [
  {
   "cell_type": "code",
   "execution_count": 24,
   "metadata": {},
   "outputs": [
    {
     "name": "stdout",
     "output_type": "stream",
     "text": [
      "[7, 2, 4, 6]\n"
     ]
    }
   ],
   "source": [
    "words = [\"Welcome\", \"to\", \"Real\", \"Python\"]\n",
    "def shorts(x):\n",
    "  if len(x) > 2:\n",
    "    return len(x)\n",
    "print(list(map(len, words)))"
   ]
  }
 ],
 "metadata": {
  "interpreter": {
   "hash": "d4a44369807ff62c402b9a5fbd01b4b19072198ec27e2023b178f48ee27c33b2"
  },
  "kernelspec": {
   "display_name": "Python 3.10.1 64-bit",
   "language": "python",
   "name": "python3"
  },
  "language_info": {
   "name": "python",
   "version": "3.10.1"
  },
  "orig_nbformat": 4
 },
 "nbformat": 4,
 "nbformat_minor": 2
}
