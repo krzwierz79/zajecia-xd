{
 "cells": [
  {
   "cell_type": "code",
   "execution_count": 24,
   "metadata": {},
   "outputs": [
    {
     "name": "stdout",
     "output_type": "stream",
     "text": [
      "[\"We don't have to iterate over separate words.\", \"We'd be better off replacing multi-word sub-strings.\", 'Or is bad.', \"Or something random if nothing's interesting.\"]\n",
      "[\"We don't (1) _ _ _ _   _ _  iterate over separate words.\", \"We'd be (2) _ _ _ _ _ _   _ _ _  replacing multi-word sub-strings.\", 'Or is bad.', \"Or something (3) _ _ _ _ _ _  if nothing's interesting.\"]\n"
     ]
    }
   ],
   "source": [
    "import random\n",
    "sentence_1 = \"We don't have to iterate over separate words.\"\n",
    "sentence_2 = \"We'd be better off replacing multi-word sub-strings.\"\n",
    "sentence_3 = \"Or something random if nothing's interesting.\"\n",
    "sentence_4 = \"Or is bad.\"\n",
    "sentences = [sentence_1, sentence_2, sentence_4, sentence_3]\n",
    "print(sentences)\n",
    "\n",
    "phrase_to_replace = \"have to\"\n",
    "phrases_to_replace = [phrase_to_replace, \"better off\", \"multi-word\"] #multi- not replaced\n",
    "def replace_letters(phrase_to_replace):\n",
    "    replacement = ''\n",
    "    for char in phrase_to_replace:\n",
    "        if char.isspace():\n",
    "            replacement += 2*char\n",
    "        else: replacement += '_ '\n",
    "    return replacement\n",
    "\n",
    "# print(replace_letters(phrase_to_replace))\n",
    "def gapped_text(phrases_to_replace, sentences):\n",
    "    gap_num = 0\n",
    "    for count, sentence in enumerate(sentences):\n",
    "        gap_num += 1\n",
    "    # replace one phrase from each sentece\n",
    "        for phrase in phrases_to_replace:\n",
    "            # prioritize given list of phrases to replace\n",
    "            if phrase in sentence:\n",
    "                sentences[count] = sentence.replace(phrase, f\"({gap_num}) {replace_letters(phrase)}\", 1)\n",
    "                break\n",
    "            else:\n",
    "                # replace random word in remaining sentences\n",
    "                wordlist = sentence.split(' ')\n",
    "                word = \"\"\n",
    "                tries = 0\n",
    "                while len(word) < 3 or not word.isalpha() or not word.islower():\n",
    "                    word = wordlist[random.randint(0,len(wordlist) - 1)]\n",
    "                    tries += 1\n",
    "                    if tries > len(wordlist):\n",
    "                        word = \"\"\n",
    "                        break\n",
    "                sentence = \" \".join(wordlist)\n",
    "                if word != \"\":\n",
    "                    sentences[count] = sentence.replace(word, f\"({gap_num}) {replace_letters(word)}\", 1)\n",
    "                else:\n",
    "                    sentences[count] = sentence\n",
    "                    gap_num -= 1\n",
    "                    break\n",
    "    return sentences       \n",
    "\n",
    "# gapped_sentence = sentence_1.replace(phrase_to_replace, replace_letters(phrase_to_replace), 1)\n",
    "# print(gapped_sentence)\n",
    "\n",
    "print(gapped_text(phrases_to_replace, sentences))"
   ]
  },
  {
   "cell_type": "code",
   "execution_count": 25,
   "metadata": {},
   "outputs": [
    {
     "name": "stdout",
     "output_type": "stream",
     "text": [
      "multi-word\n"
     ]
    }
   ],
   "source": []
  }
 ],
 "metadata": {
  "interpreter": {
   "hash": "31f2aee4e71d21fbe5cf8b01ff0e069b9275f58929596ceb00d14d90e3e16cd6"
  },
  "kernelspec": {
   "display_name": "Python 3.8.10 64-bit",
   "language": "python",
   "name": "python3"
  },
  "language_info": {
   "codemirror_mode": {
    "name": "ipython",
    "version": 3
   },
   "file_extension": ".py",
   "mimetype": "text/x-python",
   "name": "python",
   "nbconvert_exporter": "python",
   "pygments_lexer": "ipython3",
   "version": "3.8.10"
  },
  "orig_nbformat": 4
 },
 "nbformat": 4,
 "nbformat_minor": 2
}
