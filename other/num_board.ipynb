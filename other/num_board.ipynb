{
 "cells": [
  {
   "cell_type": "markdown",
   "metadata": {},
   "source": [
    "cycle through 0-9 more than once"
   ]
  },
  {
   "cell_type": "code",
   "execution_count": 44,
   "metadata": {},
   "outputs": [
    {
     "name": "stdout",
     "output_type": "stream",
     "text": [
      "0 1 2 3 4 5 6 7 8 9 0 1 "
     ]
    }
   ],
   "source": [
    "rows = 3\n",
    "cols = 4\n",
    "  \n",
    "for i in range(rows * cols): \n",
    "  print(i % 10, end = ' ')"
   ]
  },
  {
   "cell_type": "markdown",
   "metadata": {},
   "source": [
    "break lines on last column"
   ]
  },
  {
   "cell_type": "code",
   "execution_count": 38,
   "metadata": {},
   "outputs": [
    {
     "name": "stdout",
     "output_type": "stream",
     "text": [
      "x\n",
      "x x x x\n",
      "x x x x\n",
      "x x x "
     ]
    }
   ],
   "source": [
    "rows = 3\n",
    "cols = 4\n",
    "  \n",
    "for i in range(rows * cols): \n",
    "  print('x') if i % cols == 0 else print('x', end = ' ')"
   ]
  },
  {
   "cell_type": "markdown",
   "metadata": {},
   "source": [
    "combine both above"
   ]
  },
  {
   "cell_type": "code",
   "execution_count": 46,
   "metadata": {},
   "outputs": [
    {
     "name": "stdout",
     "output_type": "stream",
     "text": [
      "0\n",
      "1 2 3 4\n",
      "5 6 7 8\n",
      "9 0 1 "
     ]
    }
   ],
   "source": [
    "rows = 3\n",
    "cols = 4\n",
    "  \n",
    "for i in range(rows * cols): \n",
    "  print(i % 10) if i % cols == 0 else print(i % 10, end = ' ')\n"
   ]
  },
  {
   "cell_type": "markdown",
   "metadata": {},
   "source": [
    "shift by 1"
   ]
  },
  {
   "cell_type": "code",
   "execution_count": 49,
   "metadata": {},
   "outputs": [
    {
     "name": "stdout",
     "output_type": "stream",
     "text": [
      "0 1 2 3\n",
      "4 5 6 7\n",
      "8 9 0 1\n"
     ]
    }
   ],
   "source": [
    "rows = 3\n",
    "cols = 4\n",
    "  \n",
    "for i in range(rows * cols): \n",
    "  print(i % 10) if (i + 1) % cols == 0 else print(i % 10, end = ' ')\n"
   ]
  },
  {
   "cell_type": "markdown",
   "metadata": {},
   "source": [
    "shorten if .. else"
   ]
  },
  {
   "cell_type": "code",
   "execution_count": 34,
   "metadata": {},
   "outputs": [
    {
     "name": "stdout",
     "output_type": "stream",
     "text": [
      "0 1 2 3\n",
      "4 5 6 7\n",
      "8 9 0 1\n"
     ]
    }
   ],
   "source": [
    "for i in range(rows * cols): \n",
    "  print(i % 10, end = ' ') if (i + 1) % cols else print(i % 10)"
   ]
  },
  {
   "cell_type": "markdown",
   "metadata": {},
   "source": [
    "call with different sizes, make a one-liner"
   ]
  },
  {
   "cell_type": "code",
   "execution_count": 35,
   "metadata": {},
   "outputs": [
    {
     "name": "stdout",
     "output_type": "stream",
     "text": [
      "0 1 2 3 4\n",
      "5 6 7 8 9\n",
      "0 1 2 3 4\n"
     ]
    }
   ],
   "source": [
    "def board(rows, cols):\n",
    "  [print(i % 10, end = ' ') if (i + 1) % cols else print(i % 10) for i in range(rows * cols)]\n",
    "board(3,5)"
   ]
  },
  {
   "cell_type": "markdown",
   "metadata": {},
   "source": [
    "cycle through numbers or text"
   ]
  },
  {
   "cell_type": "code",
   "execution_count": 37,
   "metadata": {},
   "outputs": [
    {
     "name": "stdout",
     "output_type": "stream",
     "text": [
      "j a b b e r\n",
      "w o c k y j\n",
      "a b b e r w\n",
      "o c k y j a\n",
      "b b e r w o\n"
     ]
    }
   ],
   "source": [
    "def num_board(rows, cols, not_nums):\n",
    "  for i in range(rows * cols): \n",
    "    print(not_nums[i % len(not_nums)], end = ' ') if (i + 1) % cols else print(not_nums[i % len(not_nums)])\n",
    "    \n",
    "num_board(5,6, \"jabberwocky\")"
   ]
  },
  {
   "cell_type": "code",
   "execution_count": 48,
   "metadata": {},
   "outputs": [
    {
     "name": "stdout",
     "output_type": "stream",
     "text": [
      "j a b b e r\n",
      "w o c k y j\n",
      "a b b e r w\n",
      "o c k y j a\n",
      "b b e r w o\n"
     ]
    }
   ],
   "source": [
    "def num_board(rows, cols, not_nums): \n",
    "  [print(not_nums[i % len(not_nums)], end = ' ') if (i + 1) % cols else print(not_nums[i % len(not_nums)]) for i in range(rows * cols)]\n",
    "    \n",
    "num_board(5,6, \"jabberwocky\")"
   ]
  },
  {
   "cell_type": "markdown",
   "metadata": {},
   "source": [
    "now, need to understand this :)"
   ]
  },
  {
   "cell_type": "code",
   "execution_count": 30,
   "metadata": {},
   "outputs": [
    {
     "name": "stdout",
     "output_type": "stream",
     "text": [
      "a a r d\n",
      "v a r k\n",
      "a a r d\n"
     ]
    }
   ],
   "source": [
    "def word_board(rows, cols, word):\n",
    "  [print(*[word[i % len(word)] for i in range(rows * cols)][i * cols:(i + 1 ) * cols]) for i in range((rows * cols ) // cols)]\n",
    "word_board(3,4,\"aardvark\")"
   ]
  }
 ],
 "metadata": {
  "interpreter": {
   "hash": "d4a44369807ff62c402b9a5fbd01b4b19072198ec27e2023b178f48ee27c33b2"
  },
  "kernelspec": {
   "display_name": "Python 3.10.1 64-bit",
   "language": "python",
   "name": "python3"
  },
  "language_info": {
   "codemirror_mode": {
    "name": "ipython",
    "version": 3
   },
   "file_extension": ".py",
   "mimetype": "text/x-python",
   "name": "python",
   "nbconvert_exporter": "python",
   "pygments_lexer": "ipython3",
   "version": "3.10.1"
  },
  "orig_nbformat": 4
 },
 "nbformat": 4,
 "nbformat_minor": 2
}
