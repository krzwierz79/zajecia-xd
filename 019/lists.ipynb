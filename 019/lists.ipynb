{
 "cells": [
  {
   "cell_type": "markdown",
   "metadata": {},
   "source": [
    "### "
   ]
  },
  {
   "cell_type": "code",
   "execution_count": 2,
   "metadata": {},
   "outputs": [
    {
     "name": "stdout",
     "output_type": "stream",
     "text": [
      "list\n",
      "dict\n",
      "tuple\n",
      "set\n",
      "list\n",
      "dict\n",
      "tuple\n",
      "set\n"
     ]
    }
   ],
   "source": [
    "xd = [[], {}, (), {1}]\n",
    "for el in xd:\n",
    "    if isinstance(el, list):\n",
    "        print('list')\n",
    "    if isinstance(el, tuple):\n",
    "        print('tuple')\n",
    "    if isinstance(el, set):\n",
    "        print('set')\n",
    "    if isinstance(el, dict):\n",
    "        print('dict')\n",
    "\n",
    "print('better:')\n",
    "for el in xd:\n",
    "    print(type(el).__name__)\n"
   ]
  },
  {
   "cell_type": "code",
   "execution_count": 4,
   "metadata": {},
   "outputs": [
    {
     "name": "stdout",
     "output_type": "stream",
     "text": [
      "pierwszy został\n",
      "pierwszy został\n",
      "pierwszy został\n"
     ]
    }
   ],
   "source": [
    "reps = [1, 1, 2, 2, 3, 3]\n",
    "no_reps = set(reps)\n",
    "\n",
    "#id_list = list(map(lambda el: id(el), reps))\n",
    "id_list = list(map(id, reps)) #same but shorter\n",
    "#id_set = list(map(lambda el: id(el), no_reps))\n",
    "id_set = list(map(id, no_reps))\n",
    "\n",
    "for count, el in enumerate(id_set):\n",
    "    if el == id_list[count * 2]:\n",
    "        print(\"pierwszy został\")"
   ]
  }
 ],
 "metadata": {
  "interpreter": {
   "hash": "bbc9e9ef7effbf1fcc86d001da71757a8240205b7e236c8458d7ebd83614b611"
  },
  "kernelspec": {
   "display_name": "Python 3.10.1 ('nltkenv': venv)",
   "language": "python",
   "name": "python3"
  },
  "language_info": {
   "codemirror_mode": {
    "name": "ipython",
    "version": 3
   },
   "file_extension": ".py",
   "mimetype": "text/x-python",
   "name": "python",
   "nbconvert_exporter": "python",
   "pygments_lexer": "ipython3",
   "version": "3.10.1"
  },
  "orig_nbformat": 4
 },
 "nbformat": 4,
 "nbformat_minor": 2
}
